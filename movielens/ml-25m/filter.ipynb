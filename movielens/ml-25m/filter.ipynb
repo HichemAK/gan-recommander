{
 "cells": [
  {
   "cell_type": "code",
   "execution_count": 1,
   "metadata": {},
   "outputs": [],
   "source": [
    "# Run this script inside the ml-25m folder"
   ]
  },
  {
   "cell_type": "code",
   "execution_count": 2,
   "metadata": {},
   "outputs": [],
   "source": [
    "import pandas as pd\n",
    "from sklearn.preprocessing import LabelEncoder\n",
    "import numpy as np\n",
    "import scipy.sparse"
   ]
  },
  {
   "cell_type": "code",
   "execution_count": 3,
   "metadata": {},
   "outputs": [],
   "source": [
    "path = 'ratings.csv'\n",
    "top_movies = 3500"
   ]
  },
  {
   "cell_type": "code",
   "execution_count": 4,
   "metadata": {},
   "outputs": [],
   "source": [
    "# Construct rating matrix\n",
    "df = pd.read_csv(path)\n",
    "movie_le = LabelEncoder()\n",
    "user_le = LabelEncoder()\n",
    "df['userId'] = user_le.fit_transform(df['userId'])\n",
    "df['movieId'] = movie_le.fit_transform(df['movieId'])\n",
    "\n",
    "row, column, data = df['userId'], df['movieId'], np.ones(len(df))\n",
    "matrix = scipy.sparse.csr_matrix((data, (row, column)))"
   ]
  },
  {
   "cell_type": "code",
   "execution_count": 5,
   "metadata": {},
   "outputs": [],
   "source": [
    "# Filter movies\n",
    "num_movie_inter = matrix.sum(0)\n",
    "top_m = np.asarray(num_movie_inter).squeeze().argsort()[-top_movies:]\n",
    "matrix_m_filtered = matrix[:, top_m]"
   ]
  },
  {
   "cell_type": "code",
   "execution_count": 6,
   "metadata": {},
   "outputs": [],
   "source": [
    "# Filter users\n",
    "num_user_inter = matrix_m_filtered.sum(-1)\n",
    "where = np.where(num_user_inter >= 20)[0]\n",
    "matrix_u_m_filtered = matrix_m_filtered[where]"
   ]
  },
  {
   "cell_type": "code",
   "execution_count": 7,
   "metadata": {},
   "outputs": [],
   "source": [
    "# Save ratings\n",
    "user_id, movie_id = matrix_u_m_filtered.nonzero()\n",
    "df2 = pd.DataFrame()\n",
    "df2['userId'] = user_id\n",
    "df2['movieId'] = movie_id\n",
    "df2.to_csv('ratings.dat', index=False)"
   ]
  },
  {
   "cell_type": "code",
   "execution_count": 8,
   "metadata": {},
   "outputs": [],
   "source": [
    "# Other files\n",
    "df_tags = pd.read_csv('tags.csv')\n",
    "df_links = pd.read_csv('links.csv')\n",
    "df_movies = pd.read_csv('movies.csv')\n",
    "\n",
    "# Filter\n",
    "def filter_id(df):\n",
    "    if 'userId' in df.columns:\n",
    "        condition = np.isin(df['userId'], user_le.classes_, invert=True)\n",
    "        condition |= np.isin(df['userId'], user_le.inverse_transform(where), invert=True)\n",
    "        df = df.drop(index=df[condition].index)\n",
    "        df['userId'] = user_le.transform(df['userId'])\n",
    "    \n",
    "    if 'movieId' in df.columns:\n",
    "        condition = np.isin(df['movieId'], movie_le.classes_, invert=True)\n",
    "        condition |= np.isin(df['movieId'], movie_le.inverse_transform(top_m), invert=True)\n",
    "        df = df.drop(index=df[condition].index)\n",
    "        df['movieId'] = movie_le.transform(df['movieId'])\n",
    "    \n",
    "    return df\n",
    "\n",
    "# Replace ids\n",
    "df_tags = filter_id(df_tags)\n",
    "df_links = filter_id(df_links)\n",
    "df_movies = filter_id(df_movies)\n",
    "\n",
    "# Save files\n",
    "df_tags.to_csv('tags.dat', index=False)\n",
    "df_links.to_csv('links.dat', index=False)\n",
    "df_movies.to_csv('movies.dat', index=False)"
   ]
  }
 ],
 "metadata": {
  "kernelspec": {
   "display_name": "Python 3",
   "language": "python",
   "name": "python3"
  },
  "language_info": {
   "codemirror_mode": {
    "name": "ipython",
    "version": 3
   },
   "file_extension": ".py",
   "mimetype": "text/x-python",
   "name": "python",
   "nbconvert_exporter": "python",
   "pygments_lexer": "ipython3",
   "version": "3.7.0"
  }
 },
 "nbformat": 4,
 "nbformat_minor": 4
}
